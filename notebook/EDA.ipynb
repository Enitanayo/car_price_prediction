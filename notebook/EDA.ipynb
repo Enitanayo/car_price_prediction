{
 "cells": [
  {
   "cell_type": "code",
   "execution_count": 2,
   "metadata": {},
   "outputs": [],
   "source": [
    "import pandas as pd\n",
    "import numpy as np\n",
    "import seaborn as sns\n",
    "import matplotlib.pyplot as plt\n",
    "%matplotlib inline"
   ]
  },
  {
   "cell_type": "code",
   "execution_count": 3,
   "metadata": {},
   "outputs": [
    {
     "data": {
      "application/vnd.microsoft.datawrangler.viewer.v0+json": {
       "columns": [
        {
         "name": "index",
         "rawType": "int64",
         "type": "integer"
        },
        {
         "name": "price",
         "rawType": "object",
         "type": "string"
        },
        {
         "name": "fuel type",
         "rawType": "object",
         "type": "string"
        },
        {
         "name": "gear type",
         "rawType": "object",
         "type": "string"
        },
        {
         "name": "Make",
         "rawType": "object",
         "type": "string"
        },
        {
         "name": "Model",
         "rawType": "object",
         "type": "string"
        },
        {
         "name": "Year of manufacture",
         "rawType": "float64",
         "type": "float"
        },
        {
         "name": "Colour",
         "rawType": "object",
         "type": "string"
        },
        {
         "name": "Condition",
         "rawType": "object",
         "type": "string"
        },
        {
         "name": "Mileage",
         "rawType": "float64",
         "type": "float"
        },
        {
         "name": "Engine Size",
         "rawType": "float64",
         "type": "float"
        },
        {
         "name": "Selling Condition",
         "rawType": "object",
         "type": "string"
        },
        {
         "name": "Bought Condition",
         "rawType": "object",
         "type": "string"
        },
        {
         "name": "car",
         "rawType": "object",
         "type": "string"
        },
        {
         "name": "Trim",
         "rawType": "object",
         "type": "unknown"
        },
        {
         "name": "Drivetrain",
         "rawType": "object",
         "type": "unknown"
        },
        {
         "name": "Seats",
         "rawType": "object",
         "type": "unknown"
        },
        {
         "name": "Number of Cylinders",
         "rawType": "float64",
         "type": "float"
        },
        {
         "name": "Horse Power",
         "rawType": "float64",
         "type": "float"
        },
        {
         "name": "Registered city",
         "rawType": "object",
         "type": "unknown"
        }
       ],
       "conversionMethod": "pd.DataFrame",
       "ref": "c07a2be3-7485-4387-a605-17621c344de8",
       "rows": [
        [
         "0",
         "₦ 10,500,000",
         "Petrol",
         "Automatic",
         "Mercedes-Benz",
         "CLA-Class",
         "2014.0",
         "White",
         "Foreign Used",
         "210544.0",
         "2000.0",
         "Imported",
         "Imported",
         "Mercedes-Benz CLA-Class 2014 White",
         null,
         null,
         null,
         null,
         null,
         null
        ],
        [
         "1",
         "₦ 22,050,000",
         "Petrol",
         "Automatic",
         "BMW",
         "X4",
         "2015.0",
         "Brown",
         "Local Used",
         "20655.0",
         "2000.0",
         "Registered",
         "Registered",
         "BMW X4 2015 Brown",
         null,
         null,
         null,
         null,
         null,
         null
        ],
        [
         "2",
         "₦ 6,930,000",
         "Petrol",
         "Automatic",
         "Toyota",
         "Corolla",
         "2009.0",
         "Gold",
         "Local Used",
         "97225.0",
         "1800.0",
         "Registered",
         "Registered",
         "Toyota Corolla 2009 Gold",
         null,
         null,
         null,
         null,
         null,
         "Abuja"
        ],
        [
         "3",
         "₦ 13,125,009",
         "Petrol",
         "Automatic",
         "Chevrolet",
         "Tahoe",
         "2007.0",
         "Black",
         "Local Used",
         "266868.0",
         "5300.0",
         "Registered",
         "Imported",
         "Chevrolet Tahoe 2007 Black",
         null,
         null,
         null,
         null,
         null,
         "Lagos"
        ],
        [
         "4",
         "₦ 10,500,000",
         "Petrol",
         "Automatic",
         "Mini",
         "Cooper",
         "2013.0",
         "Black",
         "Local Used",
         "154962.0",
         "1600.0",
         "Registered",
         "Imported",
         "Mini Cooper John Cooper Works 2013 Black",
         "John Cooper Works",
         "Front Wheel",
         "4",
         "4.0",
         "211.0",
         null
        ]
       ],
       "shape": {
        "columns": 19,
        "rows": 5
       }
      },
      "text/html": [
       "<div>\n",
       "<style scoped>\n",
       "    .dataframe tbody tr th:only-of-type {\n",
       "        vertical-align: middle;\n",
       "    }\n",
       "\n",
       "    .dataframe tbody tr th {\n",
       "        vertical-align: top;\n",
       "    }\n",
       "\n",
       "    .dataframe thead th {\n",
       "        text-align: right;\n",
       "    }\n",
       "</style>\n",
       "<table border=\"1\" class=\"dataframe\">\n",
       "  <thead>\n",
       "    <tr style=\"text-align: right;\">\n",
       "      <th></th>\n",
       "      <th>price</th>\n",
       "      <th>fuel type</th>\n",
       "      <th>gear type</th>\n",
       "      <th>Make</th>\n",
       "      <th>Model</th>\n",
       "      <th>Year of manufacture</th>\n",
       "      <th>Colour</th>\n",
       "      <th>Condition</th>\n",
       "      <th>Mileage</th>\n",
       "      <th>Engine Size</th>\n",
       "      <th>Selling Condition</th>\n",
       "      <th>Bought Condition</th>\n",
       "      <th>car</th>\n",
       "      <th>Trim</th>\n",
       "      <th>Drivetrain</th>\n",
       "      <th>Seats</th>\n",
       "      <th>Number of Cylinders</th>\n",
       "      <th>Horse Power</th>\n",
       "      <th>Registered city</th>\n",
       "    </tr>\n",
       "  </thead>\n",
       "  <tbody>\n",
       "    <tr>\n",
       "      <th>0</th>\n",
       "      <td>₦ 10,500,000</td>\n",
       "      <td>Petrol</td>\n",
       "      <td>Automatic</td>\n",
       "      <td>Mercedes-Benz</td>\n",
       "      <td>CLA-Class</td>\n",
       "      <td>2014.0</td>\n",
       "      <td>White</td>\n",
       "      <td>Foreign Used</td>\n",
       "      <td>210544.0</td>\n",
       "      <td>2000.0</td>\n",
       "      <td>Imported</td>\n",
       "      <td>Imported</td>\n",
       "      <td>Mercedes-Benz CLA-Class 2014 White</td>\n",
       "      <td>NaN</td>\n",
       "      <td>NaN</td>\n",
       "      <td>NaN</td>\n",
       "      <td>NaN</td>\n",
       "      <td>NaN</td>\n",
       "      <td>NaN</td>\n",
       "    </tr>\n",
       "    <tr>\n",
       "      <th>1</th>\n",
       "      <td>₦ 22,050,000</td>\n",
       "      <td>Petrol</td>\n",
       "      <td>Automatic</td>\n",
       "      <td>BMW</td>\n",
       "      <td>X4</td>\n",
       "      <td>2015.0</td>\n",
       "      <td>Brown</td>\n",
       "      <td>Local Used</td>\n",
       "      <td>20655.0</td>\n",
       "      <td>2000.0</td>\n",
       "      <td>Registered</td>\n",
       "      <td>Registered</td>\n",
       "      <td>BMW X4 2015 Brown</td>\n",
       "      <td>NaN</td>\n",
       "      <td>NaN</td>\n",
       "      <td>NaN</td>\n",
       "      <td>NaN</td>\n",
       "      <td>NaN</td>\n",
       "      <td>NaN</td>\n",
       "    </tr>\n",
       "    <tr>\n",
       "      <th>2</th>\n",
       "      <td>₦ 6,930,000</td>\n",
       "      <td>Petrol</td>\n",
       "      <td>Automatic</td>\n",
       "      <td>Toyota</td>\n",
       "      <td>Corolla</td>\n",
       "      <td>2009.0</td>\n",
       "      <td>Gold</td>\n",
       "      <td>Local Used</td>\n",
       "      <td>97225.0</td>\n",
       "      <td>1800.0</td>\n",
       "      <td>Registered</td>\n",
       "      <td>Registered</td>\n",
       "      <td>Toyota Corolla 2009 Gold</td>\n",
       "      <td>NaN</td>\n",
       "      <td>NaN</td>\n",
       "      <td>NaN</td>\n",
       "      <td>NaN</td>\n",
       "      <td>NaN</td>\n",
       "      <td>Abuja</td>\n",
       "    </tr>\n",
       "    <tr>\n",
       "      <th>3</th>\n",
       "      <td>₦ 13,125,009</td>\n",
       "      <td>Petrol</td>\n",
       "      <td>Automatic</td>\n",
       "      <td>Chevrolet</td>\n",
       "      <td>Tahoe</td>\n",
       "      <td>2007.0</td>\n",
       "      <td>Black</td>\n",
       "      <td>Local Used</td>\n",
       "      <td>266868.0</td>\n",
       "      <td>5300.0</td>\n",
       "      <td>Registered</td>\n",
       "      <td>Imported</td>\n",
       "      <td>Chevrolet Tahoe 2007 Black</td>\n",
       "      <td>NaN</td>\n",
       "      <td>NaN</td>\n",
       "      <td>NaN</td>\n",
       "      <td>NaN</td>\n",
       "      <td>NaN</td>\n",
       "      <td>Lagos</td>\n",
       "    </tr>\n",
       "    <tr>\n",
       "      <th>4</th>\n",
       "      <td>₦ 10,500,000</td>\n",
       "      <td>Petrol</td>\n",
       "      <td>Automatic</td>\n",
       "      <td>Mini</td>\n",
       "      <td>Cooper</td>\n",
       "      <td>2013.0</td>\n",
       "      <td>Black</td>\n",
       "      <td>Local Used</td>\n",
       "      <td>154962.0</td>\n",
       "      <td>1600.0</td>\n",
       "      <td>Registered</td>\n",
       "      <td>Imported</td>\n",
       "      <td>Mini Cooper John Cooper Works 2013 Black</td>\n",
       "      <td>John Cooper Works</td>\n",
       "      <td>Front Wheel</td>\n",
       "      <td>4</td>\n",
       "      <td>4.0</td>\n",
       "      <td>211.0</td>\n",
       "      <td>NaN</td>\n",
       "    </tr>\n",
       "  </tbody>\n",
       "</table>\n",
       "</div>"
      ],
      "text/plain": [
       "          price fuel type  gear type           Make      Model  \\\n",
       "0  ₦ 10,500,000    Petrol  Automatic  Mercedes-Benz  CLA-Class   \n",
       "1  ₦ 22,050,000    Petrol  Automatic            BMW         X4   \n",
       "2   ₦ 6,930,000    Petrol  Automatic         Toyota    Corolla   \n",
       "3  ₦ 13,125,009    Petrol  Automatic      Chevrolet      Tahoe   \n",
       "4  ₦ 10,500,000    Petrol  Automatic           Mini     Cooper   \n",
       "\n",
       "   Year of manufacture Colour     Condition   Mileage  Engine Size  \\\n",
       "0               2014.0  White  Foreign Used  210544.0       2000.0   \n",
       "1               2015.0  Brown    Local Used   20655.0       2000.0   \n",
       "2               2009.0   Gold    Local Used   97225.0       1800.0   \n",
       "3               2007.0  Black    Local Used  266868.0       5300.0   \n",
       "4               2013.0  Black    Local Used  154962.0       1600.0   \n",
       "\n",
       "  Selling Condition Bought Condition  \\\n",
       "0          Imported         Imported   \n",
       "1        Registered       Registered   \n",
       "2        Registered       Registered   \n",
       "3        Registered         Imported   \n",
       "4        Registered         Imported   \n",
       "\n",
       "                                        car               Trim   Drivetrain  \\\n",
       "0        Mercedes-Benz CLA-Class 2014 White                NaN          NaN   \n",
       "1                         BMW X4 2015 Brown                NaN          NaN   \n",
       "2                  Toyota Corolla 2009 Gold                NaN          NaN   \n",
       "3                Chevrolet Tahoe 2007 Black                NaN          NaN   \n",
       "4  Mini Cooper John Cooper Works 2013 Black  John Cooper Works  Front Wheel   \n",
       "\n",
       "  Seats  Number of Cylinders  Horse Power Registered city  \n",
       "0   NaN                  NaN          NaN             NaN  \n",
       "1   NaN                  NaN          NaN             NaN  \n",
       "2   NaN                  NaN          NaN           Abuja  \n",
       "3   NaN                  NaN          NaN           Lagos  \n",
       "4     4                  4.0        211.0             NaN  "
      ]
     },
     "execution_count": 3,
     "metadata": {},
     "output_type": "execute_result"
    }
   ],
   "source": [
    "df = pd.read_csv('data/cars45_data.csv')\n",
    "df.head()"
   ]
  },
  {
   "cell_type": "code",
   "execution_count": 4,
   "metadata": {},
   "outputs": [
    {
     "data": {
      "text/plain": [
       "(2608, 19)"
      ]
     },
     "execution_count": 4,
     "metadata": {},
     "output_type": "execute_result"
    }
   ],
   "source": [
    "df.shape"
   ]
  },
  {
   "cell_type": "code",
   "execution_count": 5,
   "metadata": {},
   "outputs": [
    {
     "data": {
      "text/plain": [
       "array(['Automatic', nan, 'Manual', 'CVT', 'AMT'], dtype=object)"
      ]
     },
     "execution_count": 5,
     "metadata": {},
     "output_type": "execute_result"
    }
   ],
   "source": [
    "df['gear type'].unique()"
   ]
  },
  {
   "cell_type": "code",
   "execution_count": 6,
   "metadata": {},
   "outputs": [
    {
     "data": {
      "text/plain": [
       "Index(['price', 'fuel type', 'gear type', 'Make', 'Model',\n",
       "       'Year of manufacture', 'Colour', 'Condition', 'Mileage', 'Engine Size',\n",
       "       'Selling Condition', 'Bought Condition', 'car', 'Trim', 'Drivetrain',\n",
       "       'Seats', 'Number of Cylinders', 'Horse Power', 'Registered city'],\n",
       "      dtype='object')"
      ]
     },
     "execution_count": 6,
     "metadata": {},
     "output_type": "execute_result"
    }
   ],
   "source": [
    "df.columns"
   ]
  },
  {
   "cell_type": "markdown",
   "metadata": {},
   "source": [
    "## Features\n",
    "\n",
    "### Data from Cars 45 website\n",
    "\n",
    "- PRICE : The price of the car in naira\n",
    "- FUEL TYPE : petrol, hybrid, diesel, CNG\n",
    "- GEAR TYPE : Automatic, CVT, Manual, AMT\n",
    "- MAKE : make of the car or the brand name\n",
    "- MODEL : specific model of the car\n",
    "- YEAR OF MANUFACTURE : \n",
    "- COLOUR : \n",
    "- CONDITION : Locally used or foreign used\n",
    "- MILEAGE : distance the car has travelled in its lifetime in kilometers\n",
    "- ENGINE SIZE\n",
    "- SELLING CONDITION : Registered, Imported, Brand new\n",
    "- BOUGHT CONDITION : Registered, Imported, Brand new\n",
    "- CAR : Full car name with model and make\n",
    "- TRIM : car detail that state interior and exterior features\n",
    "- DRIVETRAIN : AWD, RWD, etc\n",
    "- SEATS : number of seats\n",
    "- NUMBER OF CYLINDERS\n",
    "- HORSE POWER\n",
    "- REGISTERED CITY : registered city"
   ]
  },
  {
   "cell_type": "code",
   "execution_count": 7,
   "metadata": {},
   "outputs": [
    {
     "data": {
      "text/plain": [
       "price                     0\n",
       "fuel type                 8\n",
       "gear type                 8\n",
       "Make                      8\n",
       "Model                     8\n",
       "Year of manufacture       8\n",
       "Colour                    8\n",
       "Condition                 8\n",
       "Mileage                  60\n",
       "Engine Size              72\n",
       "Selling Condition         9\n",
       "Bought Condition          9\n",
       "car                       0\n",
       "Trim                   2301\n",
       "Drivetrain             2319\n",
       "Seats                  2339\n",
       "Number of Cylinders    2326\n",
       "Horse Power            2346\n",
       "Registered city        1234\n",
       "dtype: int64"
      ]
     },
     "execution_count": 7,
     "metadata": {},
     "output_type": "execute_result"
    }
   ],
   "source": [
    "df.isna().sum()"
   ]
  },
  {
   "cell_type": "code",
   "execution_count": 8,
   "metadata": {},
   "outputs": [],
   "source": [
    "df.drop(columns=['Trim', 'Drivetrain',\n",
    "       'Seats', 'Number of Cylinders', 'Horse Power', 'Registered city'], inplace=True)"
   ]
  },
  {
   "cell_type": "code",
   "execution_count": 9,
   "metadata": {},
   "outputs": [],
   "source": [
    "df.dropna(inplace=True)"
   ]
  },
  {
   "cell_type": "code",
   "execution_count": 10,
   "metadata": {},
   "outputs": [
    {
     "data": {
      "text/plain": [
       "price                  0\n",
       "fuel type              0\n",
       "gear type              0\n",
       "Make                   0\n",
       "Model                  0\n",
       "Year of manufacture    0\n",
       "Colour                 0\n",
       "Condition              0\n",
       "Mileage                0\n",
       "Engine Size            0\n",
       "Selling Condition      0\n",
       "Bought Condition       0\n",
       "car                    0\n",
       "dtype: int64"
      ]
     },
     "execution_count": 10,
     "metadata": {},
     "output_type": "execute_result"
    }
   ],
   "source": [
    "df.isna().sum()"
   ]
  },
  {
   "cell_type": "code",
   "execution_count": 11,
   "metadata": {},
   "outputs": [
    {
     "data": {
      "text/plain": [
       "price                  0\n",
       "fuel type              0\n",
       "gear type              0\n",
       "Make                   0\n",
       "Model                  0\n",
       "Year of manufacture    0\n",
       "Colour                 0\n",
       "Condition              0\n",
       "Mileage                0\n",
       "Engine Size            0\n",
       "Selling Condition      0\n",
       "Bought Condition       0\n",
       "car                    0\n",
       "dtype: int64"
      ]
     },
     "execution_count": 11,
     "metadata": {},
     "output_type": "execute_result"
    }
   ],
   "source": [
    "df.isna().sum()"
   ]
  },
  {
   "cell_type": "code",
   "execution_count": 12,
   "metadata": {},
   "outputs": [
    {
     "data": {
      "text/plain": [
       "(2483, 13)"
      ]
     },
     "execution_count": 12,
     "metadata": {},
     "output_type": "execute_result"
    }
   ],
   "source": [
    "df.shape"
   ]
  },
  {
   "cell_type": "code",
   "execution_count": 13,
   "metadata": {},
   "outputs": [
    {
     "data": {
      "text/plain": [
       "price                   651\n",
       "fuel type                 4\n",
       "gear type                 4\n",
       "Make                     43\n",
       "Model                   268\n",
       "Year of manufacture      33\n",
       "Colour                   16\n",
       "Condition                 3\n",
       "Mileage                2206\n",
       "Engine Size              44\n",
       "Selling Condition         3\n",
       "Bought Condition          3\n",
       "car                    1687\n",
       "dtype: int64"
      ]
     },
     "execution_count": 13,
     "metadata": {},
     "output_type": "execute_result"
    }
   ],
   "source": [
    "df.nunique()"
   ]
  },
  {
   "cell_type": "code",
   "execution_count": 14,
   "metadata": {},
   "outputs": [
    {
     "data": {
      "text/plain": [
       "Bought Condition\n",
       "Imported      1395\n",
       "Registered    1014\n",
       "Brand new       74\n",
       "Name: count, dtype: int64"
      ]
     },
     "execution_count": 14,
     "metadata": {},
     "output_type": "execute_result"
    }
   ],
   "source": [
    "df['Bought Condition'].value_counts()"
   ]
  },
  {
   "cell_type": "code",
   "execution_count": 15,
   "metadata": {},
   "outputs": [],
   "source": [
    "df['Year of manufacture'] = df['Year of manufacture'].astype(int)"
   ]
  },
  {
   "cell_type": "code",
   "execution_count": 16,
   "metadata": {},
   "outputs": [],
   "source": [
    "df['price'] = pd.to_numeric(df['price'].str.replace('₦', '').str.replace(',', ''))"
   ]
  },
  {
   "cell_type": "code",
   "execution_count": 17,
   "metadata": {},
   "outputs": [
    {
     "name": "stdout",
     "output_type": "stream",
     "text": [
      "         price fuel type  gear type           Make      Model  \\\n",
      "0     10500000    Petrol  Automatic  Mercedes-Benz  CLA-Class   \n",
      "1     22050000    Petrol  Automatic            BMW         X4   \n",
      "2      6930000    Petrol  Automatic         Toyota    Corolla   \n",
      "3     13125009    Petrol  Automatic      Chevrolet      Tahoe   \n",
      "4     10500000    Petrol  Automatic           Mini     Cooper   \n",
      "...        ...       ...        ...            ...        ...   \n",
      "2603   5250000    Petrol  Automatic          Honda    Element   \n",
      "2604   2520000    Petrol  Automatic  Mercedes-Benz    M Class   \n",
      "2605   3360000    Petrol  Automatic         Toyota     Solara   \n",
      "2606   2100000    Petrol  Automatic          Honda     Accord   \n",
      "2607   2100000    Petrol     Manual     Volkswagen       Golf   \n",
      "\n",
      "      Year of manufacture  Colour     Condition   Mileage  Engine Size  \\\n",
      "0                    2014   White  Foreign Used  210544.0       2000.0   \n",
      "1                    2015   Brown    Local Used   20655.0       2000.0   \n",
      "2                    2009    Gold    Local Used   97225.0       1800.0   \n",
      "3                    2007   Black    Local Used  266868.0       5300.0   \n",
      "4                    2013   Black    Local Used  154962.0       1600.0   \n",
      "...                   ...     ...           ...       ...          ...   \n",
      "2603                 2004   Black    Local Used  159250.0       2400.0   \n",
      "2604                 2000    Blue    Local Used  228834.0       3500.0   \n",
      "2605                 2004     Red    Local Used  166642.0       2400.0   \n",
      "2606                 1997  Silver    Local Used  164169.0       2100.0   \n",
      "2607                 1999  Silver    Local Used  240069.0       1400.0   \n",
      "\n",
      "     Selling Condition Bought Condition  \\\n",
      "0             Imported         Imported   \n",
      "1           Registered       Registered   \n",
      "2           Registered       Registered   \n",
      "3           Registered         Imported   \n",
      "4           Registered         Imported   \n",
      "...                ...              ...   \n",
      "2603        Registered       Registered   \n",
      "2604        Registered         Imported   \n",
      "2605        Registered       Registered   \n",
      "2606        Registered         Imported   \n",
      "2607        Registered       Registered   \n",
      "\n",
      "                                           car  \n",
      "0           Mercedes-Benz CLA-Class 2014 White  \n",
      "1                            BMW X4 2015 Brown  \n",
      "2                     Toyota Corolla 2009 Gold  \n",
      "3                   Chevrolet Tahoe 2007 Black  \n",
      "4     Mini Cooper John Cooper Works 2013 Black  \n",
      "...                                        ...  \n",
      "2603                  Honda Element 2004 Black  \n",
      "2604    Mercedes-Benz M Class ML 320 2000 Blue  \n",
      "2605                    Toyota Solara 2004 Red  \n",
      "2606                  Honda Accord 1997 Silver  \n",
      "2607               Volkswagen Golf 1999 Silver  \n",
      "\n",
      "[2250 rows x 13 columns]\n"
     ]
    }
   ],
   "source": [
    "# Specify the column to check for outliers\n",
    "column = ['price']\n",
    "for column in column:\n",
    "    # Compute IQR for the chosen column\n",
    "    Q1 = df[column].quantile(0.25)\n",
    "    Q3 = df[column].quantile(0.75)\n",
    "    IQR = Q3 - Q1\n",
    "\n",
    "    # Define bounds\n",
    "    lower_bound = Q1 - 1.5 * IQR\n",
    "    upper_bound = Q3 + 1.5 * IQR\n",
    "\n",
    "    # Filter out outliers based on the chosen column\n",
    "    df = df[(df[column] >= lower_bound) & (df[column] <= upper_bound)]\n",
    "\n",
    "print(df)"
   ]
  },
  {
   "cell_type": "code",
   "execution_count": 18,
   "metadata": {},
   "outputs": [
    {
     "data": {
      "text/plain": [
       "price                  0\n",
       "fuel type              0\n",
       "gear type              0\n",
       "Make                   0\n",
       "Model                  0\n",
       "Year of manufacture    0\n",
       "Colour                 0\n",
       "Condition              0\n",
       "Mileage                0\n",
       "Engine Size            0\n",
       "Selling Condition      0\n",
       "Bought Condition       0\n",
       "car                    0\n",
       "dtype: int64"
      ]
     },
     "execution_count": 18,
     "metadata": {},
     "output_type": "execute_result"
    }
   ],
   "source": [
    "df.isna().sum()"
   ]
  },
  {
   "cell_type": "code",
   "execution_count": 19,
   "metadata": {},
   "outputs": [
    {
     "data": {
      "image/png": "[encoded data removed]",
      "text/plain": [
       "<Figure size 800x500 with 1 Axes>"
      ]
     },
     "metadata": {},
     "output_type": "display_data"
    }
   ],
   "source": [
    "plt.figure(figsize=(8,5))\n",
    "plt.hist(df['price'], bins=[0, 5000000,10000000,15000000,20000000,df['price'].max()], edgecolor='black')\n",
    "plt.title(\"Car Price Distribution\")\n",
    "plt.xlabel(\"Price (₦)\")\n",
    "plt.ylabel(\"Count\")\n",
    "plt.xticks(rotation=45)\n",
    "plt.show()"
   ]
  },
  {
   "cell_type": "code",
   "execution_count": 20,
   "metadata": {},
   "outputs": [
    {
     "data": {
      "image/png": "[encoded data removed]",
      "text/plain": [
       "<Figure size 1000x500 with 1 Axes>"
      ]
     },
     "metadata": {},
     "output_type": "display_data"
    }
   ],
   "source": [
    "yearly_avg_price = df.groupby('Year of manufacture')['price'].mean()\n",
    "plt.figure(figsize=(10,5))\n",
    "plt.plot(yearly_avg_price.index, yearly_avg_price.values, marker='o', linestyle='-', color='b')\n",
    "plt.title(\"Average Car Price by Year of Manufacture\")\n",
    "plt.xlabel(\"Year of Manufacture\")\n",
    "plt.ylabel(\"Average Price (₦)\")\n",
    "plt.grid(True)\n",
    "plt.show()"
   ]
  },
  {
   "cell_type": "code",
   "execution_count": 21,
   "metadata": {},
   "outputs": [
    {
     "data": {
      "image/png": "[encoded data removed]",
      "text/plain": [
       "<Figure size 800x500 with 1 Axes>"
      ]
     },
     "metadata": {},
     "output_type": "display_data"
    }
   ],
   "source": [
    "plt.figure(figsize=(8,5))\n",
    "sns.countplot(x=df['fuel type'], order=df['fuel type'].value_counts().index)\n",
    "plt.title(\"Fuel Type Distribution\")\n",
    "plt.xlabel(\"Fuel Type\")\n",
    "plt.ylabel(\"Count\")\n",
    "plt.show()"
   ]
  },
  {
   "cell_type": "code",
   "execution_count": 22,
   "metadata": {},
   "outputs": [
    {
     "data": {
      "image/png": "[encoded data removed]",
      "text/plain": [
       "<Figure size 800x500 with 1 Axes>"
      ]
     },
     "metadata": {},
     "output_type": "display_data"
    }
   ],
   "source": [
    "plt.figure(figsize=(8,5))\n",
    "sns.countplot(x=df['gear type'], order=df['gear type'].value_counts().index)\n",
    "plt.title(\"Gear Type Distribution\")\n",
    "plt.xlabel(\"Gear Type\")\n",
    "plt.ylabel(\"Count\")\n",
    "plt.show()"
   ]
  },
  {
   "cell_type": "code",
   "execution_count": 30,
   "metadata": {},
   "outputs": [
    {
     "data": {
      "image/png": "[encoded data removed]",
      "text/plain": [
       "<Figure size 800x500 with 1 Axes>"
      ]
     },
     "metadata": {},
     "output_type": "display_data"
    }
   ],
   "source": [
    "plt.figure(figsize=(8,5))\n",
    "sns.countplot(x=df['Make'], order=df['Make'].value_counts().index)\n",
    "plt.title(\"Car Make Distribution\")\n",
    "plt.xlabel(\"Make\")\n",
    "plt.ylabel(\"Count\")\n",
    "plt.xticks(rotation=90)\n",
    "plt.show()"
   ]
  },
  {
   "cell_type": "code",
   "execution_count": 24,
   "metadata": {},
   "outputs": [
    {
     "data": {
      "application/vnd.microsoft.datawrangler.viewer.v0+json": {
       "columns": [
        {
         "name": "index",
         "rawType": "int64",
         "type": "integer"
        },
        {
         "name": "price",
         "rawType": "int64",
         "type": "integer"
        },
        {
         "name": "fuel type",
         "rawType": "object",
         "type": "string"
        },
        {
         "name": "gear type",
         "rawType": "object",
         "type": "string"
        },
        {
         "name": "Make",
         "rawType": "object",
         "type": "string"
        },
        {
         "name": "Model",
         "rawType": "object",
         "type": "string"
        },
        {
         "name": "Year of manufacture",
         "rawType": "int32",
         "type": "integer"
        },
        {
         "name": "Colour",
         "rawType": "object",
         "type": "string"
        },
        {
         "name": "Condition",
         "rawType": "object",
         "type": "string"
        },
        {
         "name": "Mileage",
         "rawType": "float64",
         "type": "float"
        },
        {
         "name": "Engine Size",
         "rawType": "float64",
         "type": "float"
        },
        {
         "name": "Selling Condition",
         "rawType": "object",
         "type": "string"
        },
        {
         "name": "Bought Condition",
         "rawType": "object",
         "type": "string"
        },
        {
         "name": "car",
         "rawType": "object",
         "type": "string"
        }
       ],
       "conversionMethod": "pd.DataFrame",
       "ref": "01cc6da8-059b-4552-9503-137542707f8b",
       "rows": [
        [
         "0",
         "10500000",
         "Petrol",
         "Automatic",
         "Mercedes-Benz",
         "CLA-Class",
         "2014",
         "White",
         "Foreign Used",
         "210544.0",
         "2000.0",
         "Imported",
         "Imported",
         "Mercedes-Benz CLA-Class 2014 White"
        ],
        [
         "1",
         "22050000",
         "Petrol",
         "Automatic",
         "BMW",
         "X4",
         "2015",
         "Brown",
         "Local Used",
         "20655.0",
         "2000.0",
         "Registered",
         "Registered",
         "BMW X4 2015 Brown"
        ],
        [
         "2",
         "6930000",
         "Petrol",
         "Automatic",
         "Toyota",
         "Corolla",
         "2009",
         "Gold",
         "Local Used",
         "97225.0",
         "1800.0",
         "Registered",
         "Registered",
         "Toyota Corolla 2009 Gold"
        ],
        [
         "3",
         "13125009",
         "Petrol",
         "Automatic",
         "Chevrolet",
         "Tahoe",
         "2007",
         "Black",
         "Local Used",
         "266868.0",
         "5300.0",
         "Registered",
         "Imported",
         "Chevrolet Tahoe 2007 Black"
        ],
        [
         "4",
         "10500000",
         "Petrol",
         "Automatic",
         "Mini",
         "Cooper",
         "2013",
         "Black",
         "Local Used",
         "154962.0",
         "1600.0",
         "Registered",
         "Imported",
         "Mini Cooper John Cooper Works 2013 Black"
        ]
       ],
       "shape": {
        "columns": 13,
        "rows": 5
       }
      },
      "text/html": [
       "<div>\n",
       "<style scoped>\n",
       "    .dataframe tbody tr th:only-of-type {\n",
       "        vertical-align: middle;\n",
       "    }\n",
       "\n",
       "    .dataframe tbody tr th {\n",
       "        vertical-align: top;\n",
       "    }\n",
       "\n",
       "    .dataframe thead th {\n",
       "        text-align: right;\n",
       "    }\n",
       "</style>\n",
       "<table border=\"1\" class=\"dataframe\">\n",
       "  <thead>\n",
       "    <tr style=\"text-align: right;\">\n",
       "      <th></th>\n",
       "      <th>price</th>\n",
       "      <th>fuel type</th>\n",
       "      <th>gear type</th>\n",
       "      <th>Make</th>\n",
       "      <th>Model</th>\n",
       "      <th>Year of manufacture</th>\n",
       "      <th>Colour</th>\n",
       "      <th>Condition</th>\n",
       "      <th>Mileage</th>\n",
       "      <th>Engine Size</th>\n",
       "      <th>Selling Condition</th>\n",
       "      <th>Bought Condition</th>\n",
       "      <th>car</th>\n",
       "    </tr>\n",
       "  </thead>\n",
       "  <tbody>\n",
       "    <tr>\n",
       "      <th>0</th>\n",
       "      <td>10500000</td>\n",
       "      <td>Petrol</td>\n",
       "      <td>Automatic</td>\n",
       "      <td>Mercedes-Benz</td>\n",
       "      <td>CLA-Class</td>\n",
       "      <td>2014</td>\n",
       "      <td>White</td>\n",
       "      <td>Foreign Used</td>\n",
       "      <td>210544.0</td>\n",
       "      <td>2000.0</td>\n",
       "      <td>Imported</td>\n",
       "      <td>Imported</td>\n",
       "      <td>Mercedes-Benz CLA-Class 2014 White</td>\n",
       "    </tr>\n",
       "    <tr>\n",
       "      <th>1</th>\n",
       "      <td>22050000</td>\n",
       "      <td>Petrol</td>\n",
       "      <td>Automatic</td>\n",
       "      <td>BMW</td>\n",
       "      <td>X4</td>\n",
       "      <td>2015</td>\n",
       "      <td>Brown</td>\n",
       "      <td>Local Used</td>\n",
       "      <td>20655.0</td>\n",
       "      <td>2000.0</td>\n",
       "      <td>Registered</td>\n",
       "      <td>Registered</td>\n",
       "      <td>BMW X4 2015 Brown</td>\n",
       "    </tr>\n",
       "    <tr>\n",
       "      <th>2</th>\n",
       "      <td>6930000</td>\n",
       "      <td>Petrol</td>\n",
       "      <td>Automatic</td>\n",
       "      <td>Toyota</td>\n",
       "      <td>Corolla</td>\n",
       "      <td>2009</td>\n",
       "      <td>Gold</td>\n",
       "      <td>Local Used</td>\n",
       "      <td>97225.0</td>\n",
       "      <td>1800.0</td>\n",
       "      <td>Registered</td>\n",
       "      <td>Registered</td>\n",
       "      <td>Toyota Corolla 2009 Gold</td>\n",
       "    </tr>\n",
       "    <tr>\n",
       "      <th>3</th>\n",
       "      <td>13125009</td>\n",
       "      <td>Petrol</td>\n",
       "      <td>Automatic</td>\n",
       "      <td>Chevrolet</td>\n",
       "      <td>Tahoe</td>\n",
       "      <td>2007</td>\n",
       "      <td>Black</td>\n",
       "      <td>Local Used</td>\n",
       "      <td>266868.0</td>\n",
       "      <td>5300.0</td>\n",
       "      <td>Registered</td>\n",
       "      <td>Imported</td>\n",
       "      <td>Chevrolet Tahoe 2007 Black</td>\n",
       "    </tr>\n",
       "    <tr>\n",
       "      <th>4</th>\n",
       "      <td>10500000</td>\n",
       "      <td>Petrol</td>\n",
       "      <td>Automatic</td>\n",
       "      <td>Mini</td>\n",
       "      <td>Cooper</td>\n",
       "      <td>2013</td>\n",
       "      <td>Black</td>\n",
       "      <td>Local Used</td>\n",
       "      <td>154962.0</td>\n",
       "      <td>1600.0</td>\n",
       "      <td>Registered</td>\n",
       "      <td>Imported</td>\n",
       "      <td>Mini Cooper John Cooper Works 2013 Black</td>\n",
       "    </tr>\n",
       "  </tbody>\n",
       "</table>\n",
       "</div>"
      ],
      "text/plain": [
       "      price fuel type  gear type           Make      Model  \\\n",
       "0  10500000    Petrol  Automatic  Mercedes-Benz  CLA-Class   \n",
       "1  22050000    Petrol  Automatic            BMW         X4   \n",
       "2   6930000    Petrol  Automatic         Toyota    Corolla   \n",
       "3  13125009    Petrol  Automatic      Chevrolet      Tahoe   \n",
       "4  10500000    Petrol  Automatic           Mini     Cooper   \n",
       "\n",
       "   Year of manufacture Colour     Condition   Mileage  Engine Size  \\\n",
       "0                 2014  White  Foreign Used  210544.0       2000.0   \n",
       "1                 2015  Brown    Local Used   20655.0       2000.0   \n",
       "2                 2009   Gold    Local Used   97225.0       1800.0   \n",
       "3                 2007  Black    Local Used  266868.0       5300.0   \n",
       "4                 2013  Black    Local Used  154962.0       1600.0   \n",
       "\n",
       "  Selling Condition Bought Condition                                       car  \n",
       "0          Imported         Imported        Mercedes-Benz CLA-Class 2014 White  \n",
       "1        Registered       Registered                         BMW X4 2015 Brown  \n",
       "2        Registered       Registered                  Toyota Corolla 2009 Gold  \n",
       "3        Registered         Imported                Chevrolet Tahoe 2007 Black  \n",
       "4        Registered         Imported  Mini Cooper John Cooper Works 2013 Black  "
      ]
     },
     "execution_count": 24,
     "metadata": {},
     "output_type": "execute_result"
    }
   ],
   "source": [
    "df.head()"
   ]
  },
  {
   "cell_type": "code",
   "execution_count": 25,
   "metadata": {},
   "outputs": [],
   "source": [
    "cols_to_drop = ['car', 'Model', 'Colour']\n",
    "df.drop(['Bought Condition', 'Selling Condition'], axis=1, inplace=True)\n",
    "df.drop(cols_to_drop, axis=1, inplace=True)"
   ]
  },
  {
   "cell_type": "code",
   "execution_count": 26,
   "metadata": {},
   "outputs": [
    {
     "data": {
      "application/vnd.microsoft.datawrangler.viewer.v0+json": {
       "columns": [
        {
         "name": "index",
         "rawType": "int64",
         "type": "integer"
        },
        {
         "name": "price",
         "rawType": "int64",
         "type": "integer"
        },
        {
         "name": "fuel type",
         "rawType": "object",
         "type": "string"
        },
        {
         "name": "gear type",
         "rawType": "object",
         "type": "string"
        },
        {
         "name": "Make",
         "rawType": "object",
         "type": "string"
        },
        {
         "name": "Year of manufacture",
         "rawType": "int32",
         "type": "integer"
        },
        {
         "name": "Condition",
         "rawType": "object",
         "type": "string"
        },
        {
         "name": "Mileage",
         "rawType": "float64",
         "type": "float"
        },
        {
         "name": "Engine Size",
         "rawType": "float64",
         "type": "float"
        }
       ],
       "conversionMethod": "pd.DataFrame",
       "ref": "10cc9414-886c-447b-a361-aa1f4752def6",
       "rows": [
        [
         "0",
         "10500000",
         "Petrol",
         "Automatic",
         "Mercedes-Benz",
         "2014",
         "Foreign Used",
         "210544.0",
         "2000.0"
        ],
        [
         "1",
         "22050000",
         "Petrol",
         "Automatic",
         "BMW",
         "2015",
         "Local Used",
         "20655.0",
         "2000.0"
        ],
        [
         "2",
         "6930000",
         "Petrol",
         "Automatic",
         "Toyota",
         "2009",
         "Local Used",
         "97225.0",
         "1800.0"
        ],
        [
         "3",
         "13125009",
         "Petrol",
         "Automatic",
         "Chevrolet",
         "2007",
         "Local Used",
         "266868.0",
         "5300.0"
        ],
        [
         "4",
         "10500000",
         "Petrol",
         "Automatic",
         "Mini",
         "2013",
         "Local Used",
         "154962.0",
         "1600.0"
        ]
       ],
       "shape": {
        "columns": 8,
        "rows": 5
       }
      },
      "text/html": [
       "<div>\n",
       "<style scoped>\n",
       "    .dataframe tbody tr th:only-of-type {\n",
       "        vertical-align: middle;\n",
       "    }\n",
       "\n",
       "    .dataframe tbody tr th {\n",
       "        vertical-align: top;\n",
       "    }\n",
       "\n",
       "    .dataframe thead th {\n",
       "        text-align: right;\n",
       "    }\n",
       "</style>\n",
       "<table border=\"1\" class=\"dataframe\">\n",
       "  <thead>\n",
       "    <tr style=\"text-align: right;\">\n",
       "      <th></th>\n",
       "      <th>price</th>\n",
       "      <th>fuel type</th>\n",
       "      <th>gear type</th>\n",
       "      <th>Make</th>\n",
       "      <th>Year of manufacture</th>\n",
       "      <th>Condition</th>\n",
       "      <th>Mileage</th>\n",
       "      <th>Engine Size</th>\n",
       "    </tr>\n",
       "  </thead>\n",
       "  <tbody>\n",
       "    <tr>\n",
       "      <th>0</th>\n",
       "      <td>10500000</td>\n",
       "      <td>Petrol</td>\n",
       "      <td>Automatic</td>\n",
       "      <td>Mercedes-Benz</td>\n",
       "      <td>2014</td>\n",
       "      <td>Foreign Used</td>\n",
       "      <td>210544.0</td>\n",
       "      <td>2000.0</td>\n",
       "    </tr>\n",
       "    <tr>\n",
       "      <th>1</th>\n",
       "      <td>22050000</td>\n",
       "      <td>Petrol</td>\n",
       "      <td>Automatic</td>\n",
       "      <td>BMW</td>\n",
       "      <td>2015</td>\n",
       "      <td>Local Used</td>\n",
       "      <td>20655.0</td>\n",
       "      <td>2000.0</td>\n",
       "    </tr>\n",
       "    <tr>\n",
       "      <th>2</th>\n",
       "      <td>6930000</td>\n",
       "      <td>Petrol</td>\n",
       "      <td>Automatic</td>\n",
       "      <td>Toyota</td>\n",
       "      <td>2009</td>\n",
       "      <td>Local Used</td>\n",
       "      <td>97225.0</td>\n",
       "      <td>1800.0</td>\n",
       "    </tr>\n",
       "    <tr>\n",
       "      <th>3</th>\n",
       "      <td>13125009</td>\n",
       "      <td>Petrol</td>\n",
       "      <td>Automatic</td>\n",
       "      <td>Chevrolet</td>\n",
       "      <td>2007</td>\n",
       "      <td>Local Used</td>\n",
       "      <td>266868.0</td>\n",
       "      <td>5300.0</td>\n",
       "    </tr>\n",
       "    <tr>\n",
       "      <th>4</th>\n",
       "      <td>10500000</td>\n",
       "      <td>Petrol</td>\n",
       "      <td>Automatic</td>\n",
       "      <td>Mini</td>\n",
       "      <td>2013</td>\n",
       "      <td>Local Used</td>\n",
       "      <td>154962.0</td>\n",
       "      <td>1600.0</td>\n",
       "    </tr>\n",
       "  </tbody>\n",
       "</table>\n",
       "</div>"
      ],
      "text/plain": [
       "      price fuel type  gear type           Make  Year of manufacture  \\\n",
       "0  10500000    Petrol  Automatic  Mercedes-Benz                 2014   \n",
       "1  22050000    Petrol  Automatic            BMW                 2015   \n",
       "2   6930000    Petrol  Automatic         Toyota                 2009   \n",
       "3  13125009    Petrol  Automatic      Chevrolet                 2007   \n",
       "4  10500000    Petrol  Automatic           Mini                 2013   \n",
       "\n",
       "      Condition   Mileage  Engine Size  \n",
       "0  Foreign Used  210544.0       2000.0  \n",
       "1    Local Used   20655.0       2000.0  \n",
       "2    Local Used   97225.0       1800.0  \n",
       "3    Local Used  266868.0       5300.0  \n",
       "4    Local Used  154962.0       1600.0  "
      ]
     },
     "execution_count": 26,
     "metadata": {},
     "output_type": "execute_result"
    }
   ],
   "source": [
    "df.head()"
   ]
  },
  {
   "cell_type": "code",
   "execution_count": 27,
   "metadata": {},
   "outputs": [],
   "source": [
    "df.to_csv('data/cars45_data_cleaned.csv', index=False)"
   ]
  },
  {
   "cell_type": "code",
   "execution_count": 28,
   "metadata": {},
   "outputs": [
    {
     "data": {
      "application/vnd.microsoft.datawrangler.viewer.v0+json": {
       "columns": [
        {
         "name": "index",
         "rawType": "int64",
         "type": "integer"
        },
        {
         "name": "price",
         "rawType": "int64",
         "type": "integer"
        },
        {
         "name": "fuel type",
         "rawType": "object",
         "type": "string"
        },
        {
         "name": "gear type",
         "rawType": "object",
         "type": "string"
        },
        {
         "name": "Make",
         "rawType": "object",
         "type": "string"
        },
        {
         "name": "Year of manufacture",
         "rawType": "int32",
         "type": "integer"
        },
        {
         "name": "Condition",
         "rawType": "object",
         "type": "string"
        },
        {
         "name": "Mileage",
         "rawType": "float64",
         "type": "float"
        },
        {
         "name": "Engine Size",
         "rawType": "float64",
         "type": "float"
        }
       ],
       "conversionMethod": "pd.DataFrame",
       "ref": "7fe892df-d44d-481f-b244-2fe002e580b5",
       "rows": [
        [
         "0",
         "10500000",
         "Petrol",
         "Automatic",
         "Mercedes-Benz",
         "2014",
         "Foreign Used",
         "210544.0",
         "2000.0"
        ],
        [
         "1",
         "22050000",
         "Petrol",
         "Automatic",
         "BMW",
         "2015",
         "Local Used",
         "20655.0",
         "2000.0"
        ],
        [
         "2",
         "6930000",
         "Petrol",
         "Automatic",
         "Toyota",
         "2009",
         "Local Used",
         "97225.0",
         "1800.0"
        ],
        [
         "3",
         "13125009",
         "Petrol",
         "Automatic",
         "Chevrolet",
         "2007",
         "Local Used",
         "266868.0",
         "5300.0"
        ],
        [
         "4",
         "10500000",
         "Petrol",
         "Automatic",
         "Mini",
         "2013",
         "Local Used",
         "154962.0",
         "1600.0"
        ],
        [
         "5",
         "7875000",
         "Petrol",
         "Automatic",
         "Ford",
         "2014",
         "Local Used",
         "539687.0",
         "2000.0"
        ],
        [
         "7",
         "9450000",
         "Petrol",
         "Automatic",
         "BMW",
         "2011",
         "Local Used",
         "275074.0",
         "3000.0"
        ],
        [
         "8",
         "8925000",
         "Petrol",
         "Automatic",
         "Ford",
         "2013",
         "Local Used",
         "219599.0",
         "3500.0"
        ],
        [
         "9",
         "6510000",
         "Petrol",
         "Automatic",
         "Toyota",
         "2010",
         "Local Used",
         "135086.0",
         "1800.0"
        ],
        [
         "10",
         "5754000",
         "Petrol",
         "Automatic",
         "Toyota",
         "2007",
         "Local Used",
         "163869.0",
         "2400.0"
        ],
        [
         "11",
         "13520000",
         "Petrol",
         "Automatic",
         "Mercedes-Benz",
         "2011",
         "Local Used",
         "223141.0",
         "3500.0"
        ],
        [
         "12",
         "26250000",
         "Hybrid",
         "Automatic",
         "Lexus",
         "2016",
         "Local Used",
         "11682.0",
         "2000.0"
        ],
        [
         "13",
         "6667500",
         "Petrol",
         "Automatic",
         "Hyundai",
         "2014",
         "Local Used",
         "162954.0",
         "1800.0"
        ],
        [
         "14",
         "24045000",
         "Petrol",
         "Automatic",
         "Toyota",
         "2016",
         "Foreign Used",
         "28623.0",
         "3500.0"
        ],
        [
         "15",
         "9450000",
         "Petrol",
         "Automatic",
         "Ford",
         "2015",
         "Local Used",
         "170107.0",
         "3500.0"
        ],
        [
         "16",
         "12180000",
         "Petrol",
         "Automatic",
         "Toyota",
         "2009",
         "Local Used",
         "308661.0",
         "2700.0"
        ],
        [
         "17",
         "7875000",
         "Petrol",
         "Automatic",
         "Mercedes-Benz",
         "2012",
         "Local Used",
         "269393.0",
         "1800.0"
        ],
        [
         "18",
         "8925000",
         "Petrol",
         "Automatic",
         "Ford",
         "2015",
         "Local Used",
         "129474.0",
         "3500.0"
        ],
        [
         "19",
         "11550000",
         "Petrol",
         "Automatic",
         "Hyundai",
         "2016",
         "Local Used",
         "152355.0",
         "2000.0"
        ],
        [
         "21",
         "8400000",
         "Petrol",
         "Automatic",
         "Mercedes-Benz",
         "2003",
         "Local Used",
         "29999.0",
         "5000.0"
        ],
        [
         "22",
         "5250000",
         "Petrol",
         "Automatic",
         "Peugeot",
         "2011",
         "Foreign Used",
         "133530.0",
         "2000.0"
        ],
        [
         "24",
         "25200000",
         "Petrol",
         "Automatic",
         "Acura",
         "2018",
         "Local Used",
         "83122.0",
         "3500.0"
        ],
        [
         "25",
         "14175000",
         "Petrol",
         "Automatic",
         "Hyundai",
         "2014",
         "Foreign Used",
         "109716.0",
         "3300.0"
        ],
        [
         "26",
         "4271000",
         "Petrol",
         "Automatic",
         "Toyota",
         "2007",
         "Local Used",
         "290294.0",
         "2400.0"
        ],
        [
         "27",
         "11025000",
         "Petrol",
         "Automatic",
         "Land Rover",
         "2013",
         "Local Used",
         "63575.0",
         "5000.0"
        ],
        [
         "28",
         "9750562",
         "Petrol",
         "Automatic",
         "Honda",
         "2012",
         "Local Used",
         "78349.0",
         "2400.0"
        ],
        [
         "29",
         "8400000",
         "Petrol",
         "Automatic",
         "Land Rover",
         "2010",
         "Local Used",
         "160678.0",
         "5000.0"
        ],
        [
         "31",
         "5250000",
         "Petrol",
         "Automatic",
         "Peugeot",
         "2011",
         "Foreign Used",
         "133530.0",
         "2000.0"
        ],
        [
         "32",
         "8400000",
         "Petrol",
         "Automatic",
         "Mercedes-Benz",
         "2001",
         "Local Used",
         "113958.0",
         "5000.0"
        ],
        [
         "33",
         "5775000",
         "Diesel",
         "Automatic",
         "Mercedes-Benz",
         "2008",
         "Local Used",
         "458879.0",
         "3000.0"
        ],
        [
         "34",
         "7560000",
         "Petrol",
         "Automatic",
         "Lexus",
         "2005",
         "Local Used",
         "124107.0",
         "4700.0"
        ],
        [
         "35",
         "26460000",
         "Petrol",
         "Automatic",
         "Toyota",
         "2012",
         "Local Used",
         "196703.0",
         "3500.0"
        ],
        [
         "36",
         "5040000",
         "Petrol",
         "Automatic",
         "Infiniti",
         "2005",
         "Local Used",
         "118211.0",
         "5600.0"
        ],
        [
         "37",
         "11340000",
         "Petrol",
         "Automatic",
         "Hyundai",
         "2016",
         "Local Used",
         "83772.0",
         "2000.0"
        ],
        [
         "38",
         "14175000",
         "Petrol",
         "Automatic",
         "Hyundai",
         "2016",
         "Local Used",
         "98780.0",
         "3500.0"
        ],
        [
         "39",
         "5670000",
         "Petrol",
         "Automatic",
         "Ford",
         "2014",
         "Local Used",
         "161142.0",
         "3500.0"
        ],
        [
         "40",
         "10605000",
         "Petrol",
         "Automatic",
         "Toyota",
         "2009",
         "Local Used",
         "225194.0",
         "3500.0"
        ],
        [
         "41",
         "7300000",
         "Petrol",
         "Automatic",
         "Toyota",
         "2008",
         "Local Used",
         "149560.0",
         "1800.0"
        ],
        [
         "42",
         "5775000",
         "Petrol",
         "Automatic",
         "Toyota",
         "2007",
         "Local Used",
         "152341.0",
         "3300.0"
        ],
        [
         "43",
         "3675000",
         "Petrol",
         "Automatic",
         "Mitsubishi",
         "2004",
         "Local Used",
         "284975.0",
         "3800.0"
        ],
        [
         "44",
         "5824000",
         "Petrol",
         "Automatic",
         "Honda",
         "2011",
         "Local Used",
         "95691.0",
         "3500.0"
        ],
        [
         "46",
         "6825000",
         "Petrol",
         "Automatic",
         "Mercedes-Benz",
         "2008",
         "Local Used",
         "332055.0",
         "3500.0"
        ],
        [
         "48",
         "5985000",
         "Petrol",
         "Automatic",
         "Lexus",
         "2005",
         "Local Used",
         "169049.0",
         "3300.0"
        ],
        [
         "49",
         "14175000",
         "Petrol",
         "Automatic",
         "Toyota",
         "2013",
         "Local Used",
         "113929.0",
         "3500.0"
        ],
        [
         "50",
         "14040000",
         "Petrol",
         "Automatic",
         "Toyota",
         "2014",
         "Local Used",
         "145838.0",
         "1800.0"
        ],
        [
         "51",
         "8008000",
         "Petrol",
         "Automatic",
         "Toyota",
         "2010",
         "Local Used",
         "160898.0",
         "2400.0"
        ],
        [
         "52",
         "4836000",
         "Petrol",
         "Automatic",
         "Toyota",
         "2004",
         "Local Used",
         "164241.0",
         "2400.0"
        ],
        [
         "53",
         "8840000",
         "Petrol",
         "Automatic",
         "Lexus",
         "2007",
         "Local Used",
         "182203.0",
         "3500.0"
        ],
        [
         "55",
         "25410000",
         "Petrol",
         "Automatic",
         "Land Rover",
         "2011",
         "Foreign Used",
         "270842.0",
         "5000.0"
        ],
        [
         "58",
         "13440000",
         "Petrol",
         "Automatic",
         "Toyota",
         "2010",
         "Local Used",
         "151868.0",
         "3500.0"
        ]
       ],
       "shape": {
        "columns": 8,
        "rows": 2250
       }
      },
      "text/html": [
       "<div>\n",
       "<style scoped>\n",
       "    .dataframe tbody tr th:only-of-type {\n",
       "        vertical-align: middle;\n",
       "    }\n",
       "\n",
       "    .dataframe tbody tr th {\n",
       "        vertical-align: top;\n",
       "    }\n",
       "\n",
       "    .dataframe thead th {\n",
       "        text-align: right;\n",
       "    }\n",
       "</style>\n",
       "<table border=\"1\" class=\"dataframe\">\n",
       "  <thead>\n",
       "    <tr style=\"text-align: right;\">\n",
       "      <th></th>\n",
       "      <th>price</th>\n",
       "      <th>fuel type</th>\n",
       "      <th>gear type</th>\n",
       "      <th>Make</th>\n",
       "      <th>Year of manufacture</th>\n",
       "      <th>Condition</th>\n",
       "      <th>Mileage</th>\n",
       "      <th>Engine Size</th>\n",
       "    </tr>\n",
       "  </thead>\n",
       "  <tbody>\n",
       "    <tr>\n",
       "      <th>0</th>\n",
       "      <td>10500000</td>\n",
       "      <td>Petrol</td>\n",
       "      <td>Automatic</td>\n",
       "      <td>Mercedes-Benz</td>\n",
       "      <td>2014</td>\n",
       "      <td>Foreign Used</td>\n",
       "      <td>210544.0</td>\n",
       "      <td>2000.0</td>\n",
       "    </tr>\n",
       "    <tr>\n",
       "      <th>1</th>\n",
       "      <td>22050000</td>\n",
       "      <td>Petrol</td>\n",
       "      <td>Automatic</td>\n",
       "      <td>BMW</td>\n",
       "      <td>2015</td>\n",
       "      <td>Local Used</td>\n",
       "      <td>20655.0</td>\n",
       "      <td>2000.0</td>\n",
       "    </tr>\n",
       "    <tr>\n",
       "      <th>2</th>\n",
       "      <td>6930000</td>\n",
       "      <td>Petrol</td>\n",
       "      <td>Automatic</td>\n",
       "      <td>Toyota</td>\n",
       "      <td>2009</td>\n",
       "      <td>Local Used</td>\n",
       "      <td>97225.0</td>\n",
       "      <td>1800.0</td>\n",
       "    </tr>\n",
       "    <tr>\n",
       "      <th>3</th>\n",
       "      <td>13125009</td>\n",
       "      <td>Petrol</td>\n",
       "      <td>Automatic</td>\n",
       "      <td>Chevrolet</td>\n",
       "      <td>2007</td>\n",
       "      <td>Local Used</td>\n",
       "      <td>266868.0</td>\n",
       "      <td>5300.0</td>\n",
       "    </tr>\n",
       "    <tr>\n",
       "      <th>4</th>\n",
       "      <td>10500000</td>\n",
       "      <td>Petrol</td>\n",
       "      <td>Automatic</td>\n",
       "      <td>Mini</td>\n",
       "      <td>2013</td>\n",
       "      <td>Local Used</td>\n",
       "      <td>154962.0</td>\n",
       "      <td>1600.0</td>\n",
       "    </tr>\n",
       "    <tr>\n",
       "      <th>...</th>\n",
       "      <td>...</td>\n",
       "      <td>...</td>\n",
       "      <td>...</td>\n",
       "      <td>...</td>\n",
       "      <td>...</td>\n",
       "      <td>...</td>\n",
       "      <td>...</td>\n",
       "      <td>...</td>\n",
       "    </tr>\n",
       "    <tr>\n",
       "      <th>2603</th>\n",
       "      <td>5250000</td>\n",
       "      <td>Petrol</td>\n",
       "      <td>Automatic</td>\n",
       "      <td>Honda</td>\n",
       "      <td>2004</td>\n",
       "      <td>Local Used</td>\n",
       "      <td>159250.0</td>\n",
       "      <td>2400.0</td>\n",
       "    </tr>\n",
       "    <tr>\n",
       "      <th>2604</th>\n",
       "      <td>2520000</td>\n",
       "      <td>Petrol</td>\n",
       "      <td>Automatic</td>\n",
       "      <td>Mercedes-Benz</td>\n",
       "      <td>2000</td>\n",
       "      <td>Local Used</td>\n",
       "      <td>228834.0</td>\n",
       "      <td>3500.0</td>\n",
       "    </tr>\n",
       "    <tr>\n",
       "      <th>2605</th>\n",
       "      <td>3360000</td>\n",
       "      <td>Petrol</td>\n",
       "      <td>Automatic</td>\n",
       "      <td>Toyota</td>\n",
       "      <td>2004</td>\n",
       "      <td>Local Used</td>\n",
       "      <td>166642.0</td>\n",
       "      <td>2400.0</td>\n",
       "    </tr>\n",
       "    <tr>\n",
       "      <th>2606</th>\n",
       "      <td>2100000</td>\n",
       "      <td>Petrol</td>\n",
       "      <td>Automatic</td>\n",
       "      <td>Honda</td>\n",
       "      <td>1997</td>\n",
       "      <td>Local Used</td>\n",
       "      <td>164169.0</td>\n",
       "      <td>2100.0</td>\n",
       "    </tr>\n",
       "    <tr>\n",
       "      <th>2607</th>\n",
       "      <td>2100000</td>\n",
       "      <td>Petrol</td>\n",
       "      <td>Manual</td>\n",
       "      <td>Volkswagen</td>\n",
       "      <td>1999</td>\n",
       "      <td>Local Used</td>\n",
       "      <td>240069.0</td>\n",
       "      <td>1400.0</td>\n",
       "    </tr>\n",
       "  </tbody>\n",
       "</table>\n",
       "<p>2250 rows × 8 columns</p>\n",
       "</div>"
      ],
      "text/plain": [
       "         price fuel type  gear type           Make  Year of manufacture  \\\n",
       "0     10500000    Petrol  Automatic  Mercedes-Benz                 2014   \n",
       "1     22050000    Petrol  Automatic            BMW                 2015   \n",
       "2      6930000    Petrol  Automatic         Toyota                 2009   \n",
       "3     13125009    Petrol  Automatic      Chevrolet                 2007   \n",
       "4     10500000    Petrol  Automatic           Mini                 2013   \n",
       "...        ...       ...        ...            ...                  ...   \n",
       "2603   5250000    Petrol  Automatic          Honda                 2004   \n",
       "2604   2520000    Petrol  Automatic  Mercedes-Benz                 2000   \n",
       "2605   3360000    Petrol  Automatic         Toyota                 2004   \n",
       "2606   2100000    Petrol  Automatic          Honda                 1997   \n",
       "2607   2100000    Petrol     Manual     Volkswagen                 1999   \n",
       "\n",
       "         Condition   Mileage  Engine Size  \n",
       "0     Foreign Used  210544.0       2000.0  \n",
       "1       Local Used   20655.0       2000.0  \n",
       "2       Local Used   97225.0       1800.0  \n",
       "3       Local Used  266868.0       5300.0  \n",
       "4       Local Used  154962.0       1600.0  \n",
       "...            ...       ...          ...  \n",
       "2603    Local Used  159250.0       2400.0  \n",
       "2604    Local Used  228834.0       3500.0  \n",
       "2605    Local Used  166642.0       2400.0  \n",
       "2606    Local Used  164169.0       2100.0  \n",
       "2607    Local Used  240069.0       1400.0  \n",
       "\n",
       "[2250 rows x 8 columns]"
      ]
     },
     "execution_count": 28,
     "metadata": {},
     "output_type": "execute_result"
    }
   ],
   "source": [
    "df"
   ]
  },
  {
   "cell_type": "code",
   "execution_count": null,
   "metadata": {},
   "outputs": [],
   "source": []
  }
 ],
 "metadata": {
  "kernelspec": {
   "display_name": "venv",
   "language": "python",
   "name": "python3"
  },
  "language_info": {
   "codemirror_mode": {
    "name": "ipython",
    "version": 3
   },
   "file_extension": ".py",
   "mimetype": "text/x-python",
   "name": "python",
   "nbconvert_exporter": "python",
   "pygments_lexer": "ipython3",
   "version": "3.8.0"
  }
 },
 "nbformat": 4,
 "nbformat_minor": 2
}
